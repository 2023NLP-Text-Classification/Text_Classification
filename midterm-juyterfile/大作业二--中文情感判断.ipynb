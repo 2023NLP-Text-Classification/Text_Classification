{
 "cells": [
  {
   "cell_type": "markdown",
   "id": "19054dc7",
   "metadata": {},
   "source": [
    "# NLP-大作业二-语句情感判断"
   ]
  },
  {
   "cell_type": "markdown",
   "id": "4a549ccb",
   "metadata": {},
   "source": [
    "## 组员：黄梓轩 陈致宁 罗弋桐"
   ]
  },
  {
   "cell_type": "markdown",
   "id": "cb1e274f",
   "metadata": {},
   "source": [
    "#### 项目目标：实现中文句子的二分类问题。对语句进行情感分析判断，通过训练使网络具有判断句子是“抽象”还是“非抽象”的能力\n",
    "#### 实现工具：Python（TensorFlow）"
   ]
  },
  {
   "cell_type": "markdown",
   "id": "6b653061",
   "metadata": {},
   "source": [
    "### Section 1: 调用Python工具包"
   ]
  },
  {
   "cell_type": "code",
   "execution_count": 1,
   "id": "5a2603c5",
   "metadata": {},
   "outputs": [
    {
     "name": "stderr",
     "output_type": "stream",
     "text": [
      "/Users/luooops/miniforge3/envs/pytf/lib/python3.9/site-packages/tqdm/auto.py:22: TqdmWarning: IProgress not found. Please update jupyter and ipywidgets. See https://ipywidgets.readthedocs.io/en/stable/user_install.html\n",
      "  from .autonotebook import tqdm as notebook_tqdm\n"
     ]
    }
   ],
   "source": [
    "from gensim.models import KeyedVectors\n",
    "import jieba\n",
    "import numpy as np\n",
    "import tensorflow as tf\n",
    "import tensorflow_datasets as tfds\n",
    "from tensorflow import keras\n",
    "import time\n",
    "from tqdm import *"
   ]
  },
  {
   "cell_type": "markdown",
   "id": "a4289116",
   "metadata": {},
   "source": [
    "查看tensorflow版本"
   ]
  },
  {
   "cell_type": "code",
   "execution_count": 2,
   "id": "5548c38a",
   "metadata": {},
   "outputs": [
    {
     "name": "stdout",
     "output_type": "stream",
     "text": [
      "2.6.0\n"
     ]
    }
   ],
   "source": [
    "print(tf.__version__)"
   ]
  },
  {
   "cell_type": "markdown",
   "id": "504575f1",
   "metadata": {},
   "source": [
    "### Section 2: 数据预处理\n",
    "#### 文本分词、汉语词向量转化"
   ]
  },
  {
   "cell_type": "markdown",
   "id": "8efea210",
   "metadata": {},
   "source": [
    "分词函数：将txt文件中的句子进行分词处理，形成只有空格连接词语的文件"
   ]
  },
  {
   "cell_type": "code",
   "execution_count": 3,
   "id": "806e7ec5",
   "metadata": {},
   "outputs": [],
   "source": [
    "def file_cut(txt_file):\n",
    "    with open(txt_file, 'r', encoding='utf-8') as f:\n",
    "        text = f.read().strip()\n",
    "        text_cut = jieba.cut(text)\n",
    "        output = ' '.join(text_cut).replace('，', '').replace('。', '').replace('？', '').replace('！', '') \\\n",
    "            .replace('“', '').replace('”', '').replace('：', '').replace('…', '').replace('（', '').replace('）', '') \\\n",
    "            .replace('—', '').replace('《', '').replace('》', '').replace('、', '').replace('‘', '') \\\n",
    "            .replace('’', '')  # 去掉标点符号\n",
    "    if txt_file[7:13] == 'normal':\n",
    "        cut_file = 'txt_ds/normal_ds_cut/' + txt_file[17:-4] + '_cut.txt'  # normal_ds\n",
    "    else:\n",
    "        cut_file = 'txt_ds/abstract_ds_cut/' + txt_file[19:-4] + '_cut.txt'  # abstract_ds\n",
    "    with open(cut_file, 'w', encoding='utf-8') as fo:\n",
    "        fo.write(output)\n",
    "    return cut_file"
   ]
  },
  {
   "cell_type": "code",
   "execution_count": 4,
   "id": "97a86c52",
   "metadata": {},
   "outputs": [],
   "source": [
    "def read_file(cut_file):\n",
    "    word_list = []\n",
    "    with open(cut_file, 'r', encoding='utf-8') as f:\n",
    "        for line in f.readlines():\n",
    "            word = line.split()\n",
    "            word_list = word\n",
    "    return word_list"
   ]
  },
  {
   "cell_type": "markdown",
   "id": "efb86746",
   "metadata": {},
   "source": [
    "词向量转化：起初我们想利用 gensim.models 中的 word2vec 实用工具自行训练词向量，但由于数据量太小，导致训练效果很不理想，于是最终参考了腾讯发布的AILab中文词向量数据集，并通过 gensim.models 中的 KeyedVectors 实用工具生成方便多次使用的模型。"
   ]
  },
  {
   "cell_type": "code",
   "execution_count": 5,
   "id": "c657d15d",
   "metadata": {},
   "outputs": [],
   "source": [
    "def sentence2vec(cut_file):\n",
    "    word_list = read_file(cut_file)\n",
    "    model = KeyedVectors.load('tencentNLP.model')\n",
    "    wordvec_dict = {}\n",
    "    for word in word_list:\n",
    "        if word in model.key_to_index.keys():\n",
    "            vec = model[word]\n",
    "            sim_list = model.most_similar(positive=[vec], topn=20)\n",
    "            wordvec_dict[word] = vec * 10\n",
    "        else:\n",
    "            wordvec_dict[word] = np.zeros((1, 200))\n",
    "    standard_vec = sum(wordvec_dict.values()) / len(word_list)\n",
    "    return standard_vec"
   ]
  },
  {
   "cell_type": "markdown",
   "id": "24c4fcf6",
   "metadata": {},
   "source": [
    "通过以上函数，我们可以将一个汉语句子成功转化成一个200维的向量，方便我们后续传入神经网络训练。同时为了方便后续的训练，我们将生成的词向量保存方便随时调取使用。"
   ]
  },
  {
   "cell_type": "markdown",
   "id": "5708e8fd",
   "metadata": {},
   "source": [
    "下面对数据进行处理："
   ]
  },
  {
   "cell_type": "code",
   "execution_count": 6,
   "id": "5b17a5aa",
   "metadata": {},
   "outputs": [],
   "source": [
    "# # 处理正常语句\n",
    "# for i in tqdm(range(500)):\n",
    "#     cut_file = file_cut('txt_ds/normal_ds/' + str(i) + '.txt')\n",
    "#     vec = sentence2vec(cut_file)\n",
    "#     np.save('vector_ds/pos/' + cut_file[21:-8] + '_ndarray', vec)"
   ]
  },
  {
   "cell_type": "code",
   "execution_count": 7,
   "id": "2dd63a4a",
   "metadata": {},
   "outputs": [],
   "source": [
    "# # 处理抽象语句\n",
    "# for i in tqdm(range(500)):\n",
    "#     cut_file = file_cut('txt_ds/abstract_ds/' + str(i) + '.txt')\n",
    "#     vec = sentence2vec(cut_file)\n",
    "#     np.save('vector_ds/neg/' + cut_file[23:-8] + '_ndarray', vec)"
   ]
  },
  {
   "cell_type": "markdown",
   "id": "b6d74dcd",
   "metadata": {},
   "source": [
    "数据集中每一个中文句子都是一个独立的 txt 文件，通过转化将每一个句子转化成独立的 .npy 文件存储到待学习的向量集中。数据分为 pos 和 neg 两种，分别代表了语句正常和语句抽象。"
   ]
  },
  {
   "cell_type": "markdown",
   "id": "a8249324",
   "metadata": {},
   "source": [
    "### 模型训练\n",
    "#### 数据集输入、模型构造、模型训练、模型评估"
   ]
  },
  {
   "cell_type": "markdown",
   "id": "c65cec2e",
   "metadata": {},
   "source": [
    "创建训练集 x 和与其对应的标签集 y。由于我们数据量较少，我们将训练集中的20%作为验证集划分出来，以便后续对模型效果进行评估。"
   ]
  },
  {
   "cell_type": "code",
   "execution_count": 8,
   "id": "de8312bb",
   "metadata": {},
   "outputs": [],
   "source": [
    "train_x_list = np.empty([800, 200])\n",
    "test_x_list = np.empty([200, 200])\n",
    "\n",
    "train_y_list = np.empty(800)\n",
    "test_y_list = np.empty(200)\n",
    "\n",
    "for i in range(0, 400):\n",
    "    train_y_list[i] = 1\n",
    "for i in range(400, 800):\n",
    "    train_y_list[i] = 0\n",
    "    \n",
    "for i in range(0, 100):\n",
    "    test_y_list[i] = 1\n",
    "for i in range(100, 200):\n",
    "    test_y_list[i] = 0"
   ]
  },
  {
   "cell_type": "code",
   "execution_count": 9,
   "id": "f03c742a",
   "metadata": {},
   "outputs": [],
   "source": [
    "for i in range(0, 400):\n",
    "    vector = np.load('vector_ds/pos/' + str(i) + '_ndarray.npy')\n",
    "    train_x_list[i] = vector\n",
    "\n",
    "for i in range(400, 500):\n",
    "    vector = np.load('vector_ds/pos/' + str(i) + '_ndarray.npy')\n",
    "    test_x_list[i - 400] = vector"
   ]
  },
  {
   "cell_type": "code",
   "execution_count": 10,
   "id": "96521772",
   "metadata": {},
   "outputs": [],
   "source": [
    "for i in range(0, 400):\n",
    "    vector = np.load('vector_ds/neg/' + str(i) + '_ndarray.npy')\n",
    "    train_x_list[400 + i] = vector\n",
    "    \n",
    "for i in range(400, 500):\n",
    "    vector = np.load('vector_ds/neg/' + str(i) + '_ndarray.npy')\n",
    "    test_x_list[100 + i - 400] = vector"
   ]
  },
  {
   "cell_type": "code",
   "execution_count": 11,
   "id": "047468b3",
   "metadata": {},
   "outputs": [
    {
     "data": {
      "text/plain": [
       "800"
      ]
     },
     "execution_count": 11,
     "metadata": {},
     "output_type": "execute_result"
    }
   ],
   "source": [
    "len(train_x_list)"
   ]
  },
  {
   "cell_type": "code",
   "execution_count": 12,
   "id": "7515a9e4",
   "metadata": {},
   "outputs": [
    {
     "data": {
      "text/plain": [
       "200"
      ]
     },
     "execution_count": 12,
     "metadata": {},
     "output_type": "execute_result"
    }
   ],
   "source": [
    "len(test_x_list)"
   ]
  },
  {
   "cell_type": "code",
   "execution_count": 13,
   "id": "7fef9430",
   "metadata": {},
   "outputs": [
    {
     "data": {
      "text/plain": [
       "800"
      ]
     },
     "execution_count": 13,
     "metadata": {},
     "output_type": "execute_result"
    }
   ],
   "source": [
    "len(train_y_list)"
   ]
  },
  {
   "cell_type": "code",
   "execution_count": 14,
   "id": "b7652617",
   "metadata": {},
   "outputs": [
    {
     "data": {
      "text/plain": [
       "200"
      ]
     },
     "execution_count": 14,
     "metadata": {},
     "output_type": "execute_result"
    }
   ],
   "source": [
    "len(test_y_list)"
   ]
  },
  {
   "cell_type": "markdown",
   "id": "cdab4cbb",
   "metadata": {},
   "source": [
    "测试集 train_x_list 和 train_y_list 分别包含800个文件，400个正常语句的词向量和400个抽象语句的词向量。验证集则包含了100个正常语句的词向量和100个抽象语句的词向量。"
   ]
  },
  {
   "cell_type": "markdown",
   "id": "1e82a844",
   "metadata": {},
   "source": [
    "下面我们搭建神经网络。"
   ]
  },
  {
   "cell_type": "code",
   "execution_count": 15,
   "id": "0483eab3",
   "metadata": {},
   "outputs": [
    {
     "name": "stdout",
     "output_type": "stream",
     "text": [
      "Model: \"sequential\"\n",
      "_________________________________________________________________\n",
      "Layer (type)                 Output Shape              Param #   \n",
      "=================================================================\n",
      "dense (Dense)                (None, 16)                3216      \n",
      "_________________________________________________________________\n",
      "dense_1 (Dense)              (None, 10)                170       \n",
      "_________________________________________________________________\n",
      "dense_2 (Dense)              (None, 1)                 11        \n",
      "=================================================================\n",
      "Total params: 3,397\n",
      "Trainable params: 3,397\n",
      "Non-trainable params: 0\n",
      "_________________________________________________________________\n"
     ]
    }
   ],
   "source": [
    "model = keras.Sequential()\n",
    "model.add(tf.keras.Input(shape=(200, )))\n",
    "model.add(keras.layers.Dense(16, activation='relu'))\n",
    "model.add(keras.layers.Dense(10, activation='sigmoid'))\n",
    "model.add(keras.layers.Dense(1, activation='sigmoid'))\n",
    "model.summary()"
   ]
  },
  {
   "cell_type": "code",
   "execution_count": 16,
   "id": "829d763a",
   "metadata": {},
   "outputs": [],
   "source": [
    "model.compile(optimizer='adam',\n",
    "              loss='binary_crossentropy',\n",
    "              metrics=['accuracy'])"
   ]
  },
  {
   "cell_type": "code",
   "execution_count": 17,
   "id": "818982cc",
   "metadata": {},
   "outputs": [
    {
     "name": "stdout",
     "output_type": "stream",
     "text": [
      "Epoch 1/80\n",
      "4/4 [==============================] - 0s 17ms/step - loss: 0.7140 - accuracy: 0.5013 - val_loss: 0.6801 - val_accuracy: 0.5200\n",
      "Epoch 2/80\n",
      "4/4 [==============================] - 0s 2ms/step - loss: 0.6891 - accuracy: 0.5100 - val_loss: 0.6660 - val_accuracy: 0.6250\n",
      "Epoch 3/80\n",
      "4/4 [==============================] - 0s 3ms/step - loss: 0.6787 - accuracy: 0.5938 - val_loss: 0.6562 - val_accuracy: 0.7400\n",
      "Epoch 4/80\n",
      "4/4 [==============================] - 0s 3ms/step - loss: 0.6696 - accuracy: 0.6375 - val_loss: 0.6458 - val_accuracy: 0.7100\n"
     ]
    },
    {
     "name": "stderr",
     "output_type": "stream",
     "text": [
      "2023-01-09 09:58:51.094697: I tensorflow/compiler/mlir/mlir_graph_optimization_pass.cc:185] None of the MLIR Optimization Passes are enabled (registered 2)\n",
      "2023-01-09 09:58:51.094849: W tensorflow/core/platform/profile_utils/cpu_utils.cc:128] Failed to get CPU frequency: 0 Hz\n"
     ]
    },
    {
     "name": "stdout",
     "output_type": "stream",
     "text": [
      "Epoch 5/80\n",
      "4/4 [==============================] - 0s 3ms/step - loss: 0.6571 - accuracy: 0.6837 - val_loss: 0.6366 - val_accuracy: 0.7300\n",
      "Epoch 6/80\n",
      "4/4 [==============================] - 0s 3ms/step - loss: 0.6415 - accuracy: 0.7812 - val_loss: 0.6306 - val_accuracy: 0.7050\n",
      "Epoch 7/80\n",
      "4/4 [==============================] - 0s 3ms/step - loss: 0.6306 - accuracy: 0.7525 - val_loss: 0.6186 - val_accuracy: 0.7650\n",
      "Epoch 8/80\n",
      "4/4 [==============================] - 0s 3ms/step - loss: 0.6158 - accuracy: 0.8125 - val_loss: 0.6057 - val_accuracy: 0.7650\n",
      "Epoch 9/80\n",
      "4/4 [==============================] - 0s 3ms/step - loss: 0.6025 - accuracy: 0.8175 - val_loss: 0.5977 - val_accuracy: 0.7550\n",
      "Epoch 10/80\n",
      "4/4 [==============================] - 0s 3ms/step - loss: 0.5898 - accuracy: 0.8375 - val_loss: 0.5899 - val_accuracy: 0.7550\n",
      "Epoch 11/80\n",
      "4/4 [==============================] - 0s 3ms/step - loss: 0.5767 - accuracy: 0.8462 - val_loss: 0.5822 - val_accuracy: 0.7700\n",
      "Epoch 12/80\n",
      "4/4 [==============================] - 0s 3ms/step - loss: 0.5637 - accuracy: 0.8562 - val_loss: 0.5741 - val_accuracy: 0.7750\n",
      "Epoch 13/80\n",
      "4/4 [==============================] - 0s 3ms/step - loss: 0.5510 - accuracy: 0.8612 - val_loss: 0.5678 - val_accuracy: 0.7700\n",
      "Epoch 14/80\n",
      "4/4 [==============================] - 0s 3ms/step - loss: 0.5389 - accuracy: 0.8625 - val_loss: 0.5614 - val_accuracy: 0.7650\n",
      "Epoch 15/80\n",
      "4/4 [==============================] - 0s 3ms/step - loss: 0.5271 - accuracy: 0.8650 - val_loss: 0.5538 - val_accuracy: 0.7850\n",
      "Epoch 16/80\n",
      "4/4 [==============================] - 0s 3ms/step - loss: 0.5165 - accuracy: 0.8662 - val_loss: 0.5475 - val_accuracy: 0.7850\n",
      "Epoch 17/80\n",
      "4/4 [==============================] - 0s 3ms/step - loss: 0.5055 - accuracy: 0.8712 - val_loss: 0.5398 - val_accuracy: 0.7850\n",
      "Epoch 18/80\n",
      "4/4 [==============================] - 0s 3ms/step - loss: 0.4947 - accuracy: 0.8725 - val_loss: 0.5338 - val_accuracy: 0.7900\n",
      "Epoch 19/80\n",
      "4/4 [==============================] - 0s 3ms/step - loss: 0.4839 - accuracy: 0.8788 - val_loss: 0.5238 - val_accuracy: 0.7900\n",
      "Epoch 20/80\n",
      "4/4 [==============================] - 0s 3ms/step - loss: 0.4721 - accuracy: 0.8925 - val_loss: 0.5174 - val_accuracy: 0.7800\n",
      "Epoch 21/80\n",
      "4/4 [==============================] - 0s 3ms/step - loss: 0.4619 - accuracy: 0.8838 - val_loss: 0.5094 - val_accuracy: 0.7800\n",
      "Epoch 22/80\n",
      "4/4 [==============================] - 0s 3ms/step - loss: 0.4498 - accuracy: 0.8975 - val_loss: 0.5025 - val_accuracy: 0.7900\n",
      "Epoch 23/80\n",
      "4/4 [==============================] - 0s 3ms/step - loss: 0.4397 - accuracy: 0.9050 - val_loss: 0.4958 - val_accuracy: 0.8150\n",
      "Epoch 24/80\n",
      "4/4 [==============================] - 0s 3ms/step - loss: 0.4300 - accuracy: 0.9112 - val_loss: 0.4889 - val_accuracy: 0.8100\n",
      "Epoch 25/80\n",
      "4/4 [==============================] - 0s 3ms/step - loss: 0.4197 - accuracy: 0.9100 - val_loss: 0.4818 - val_accuracy: 0.8100\n",
      "Epoch 26/80\n",
      "4/4 [==============================] - 0s 3ms/step - loss: 0.4096 - accuracy: 0.9162 - val_loss: 0.4755 - val_accuracy: 0.8100\n",
      "Epoch 27/80\n",
      "4/4 [==============================] - 0s 3ms/step - loss: 0.4003 - accuracy: 0.9175 - val_loss: 0.4693 - val_accuracy: 0.8100\n",
      "Epoch 28/80\n",
      "4/4 [==============================] - 0s 3ms/step - loss: 0.3915 - accuracy: 0.9187 - val_loss: 0.4638 - val_accuracy: 0.8100\n",
      "Epoch 29/80\n",
      "4/4 [==============================] - 0s 3ms/step - loss: 0.3821 - accuracy: 0.9225 - val_loss: 0.4584 - val_accuracy: 0.8200\n",
      "Epoch 30/80\n",
      "4/4 [==============================] - 0s 3ms/step - loss: 0.3737 - accuracy: 0.9200 - val_loss: 0.4538 - val_accuracy: 0.8200\n",
      "Epoch 31/80\n",
      "4/4 [==============================] - 0s 3ms/step - loss: 0.3653 - accuracy: 0.9237 - val_loss: 0.4493 - val_accuracy: 0.8100\n",
      "Epoch 32/80\n",
      "4/4 [==============================] - 0s 3ms/step - loss: 0.3571 - accuracy: 0.9262 - val_loss: 0.4449 - val_accuracy: 0.8150\n",
      "Epoch 33/80\n",
      "4/4 [==============================] - 0s 3ms/step - loss: 0.3497 - accuracy: 0.9275 - val_loss: 0.4403 - val_accuracy: 0.8250\n",
      "Epoch 34/80\n",
      "4/4 [==============================] - 0s 3ms/step - loss: 0.3422 - accuracy: 0.9287 - val_loss: 0.4355 - val_accuracy: 0.8300\n",
      "Epoch 35/80\n",
      "4/4 [==============================] - 0s 3ms/step - loss: 0.3349 - accuracy: 0.9312 - val_loss: 0.4325 - val_accuracy: 0.8250\n",
      "Epoch 36/80\n",
      "4/4 [==============================] - 0s 3ms/step - loss: 0.3285 - accuracy: 0.9275 - val_loss: 0.4310 - val_accuracy: 0.8150\n",
      "Epoch 37/80\n",
      "4/4 [==============================] - 0s 3ms/step - loss: 0.3238 - accuracy: 0.9275 - val_loss: 0.4262 - val_accuracy: 0.8300\n",
      "Epoch 38/80\n",
      "4/4 [==============================] - 0s 3ms/step - loss: 0.3153 - accuracy: 0.9275 - val_loss: 0.4251 - val_accuracy: 0.8450\n",
      "Epoch 39/80\n",
      "4/4 [==============================] - 0s 3ms/step - loss: 0.3142 - accuracy: 0.9225 - val_loss: 0.4200 - val_accuracy: 0.8300\n",
      "Epoch 40/80\n",
      "4/4 [==============================] - 0s 3ms/step - loss: 0.3050 - accuracy: 0.9375 - val_loss: 0.4170 - val_accuracy: 0.8400\n",
      "Epoch 41/80\n",
      "4/4 [==============================] - 0s 3ms/step - loss: 0.2990 - accuracy: 0.9350 - val_loss: 0.4136 - val_accuracy: 0.8300\n",
      "Epoch 42/80\n",
      "4/4 [==============================] - 0s 3ms/step - loss: 0.2930 - accuracy: 0.9337 - val_loss: 0.4104 - val_accuracy: 0.8350\n",
      "Epoch 43/80\n",
      "4/4 [==============================] - 0s 3ms/step - loss: 0.2876 - accuracy: 0.9362 - val_loss: 0.4074 - val_accuracy: 0.8400\n",
      "Epoch 44/80\n",
      "4/4 [==============================] - 0s 3ms/step - loss: 0.2824 - accuracy: 0.9362 - val_loss: 0.4050 - val_accuracy: 0.8400\n",
      "Epoch 45/80\n",
      "4/4 [==============================] - 0s 3ms/step - loss: 0.2774 - accuracy: 0.9375 - val_loss: 0.4025 - val_accuracy: 0.8500\n",
      "Epoch 46/80\n",
      "4/4 [==============================] - 0s 2ms/step - loss: 0.2731 - accuracy: 0.9438 - val_loss: 0.4007 - val_accuracy: 0.8450\n",
      "Epoch 47/80\n",
      "4/4 [==============================] - 0s 3ms/step - loss: 0.2676 - accuracy: 0.9438 - val_loss: 0.3994 - val_accuracy: 0.8450\n",
      "Epoch 48/80\n",
      "4/4 [==============================] - 0s 2ms/step - loss: 0.2641 - accuracy: 0.9450 - val_loss: 0.3969 - val_accuracy: 0.8450\n",
      "Epoch 49/80\n",
      "4/4 [==============================] - 0s 3ms/step - loss: 0.2599 - accuracy: 0.9413 - val_loss: 0.3956 - val_accuracy: 0.8400\n",
      "Epoch 50/80\n",
      "4/4 [==============================] - 0s 3ms/step - loss: 0.2564 - accuracy: 0.9463 - val_loss: 0.3938 - val_accuracy: 0.8400\n",
      "Epoch 51/80\n",
      "4/4 [==============================] - 0s 3ms/step - loss: 0.2521 - accuracy: 0.9525 - val_loss: 0.3917 - val_accuracy: 0.8450\n",
      "Epoch 52/80\n",
      "4/4 [==============================] - 0s 3ms/step - loss: 0.2473 - accuracy: 0.9500 - val_loss: 0.3913 - val_accuracy: 0.8450\n",
      "Epoch 53/80\n",
      "4/4 [==============================] - 0s 3ms/step - loss: 0.2433 - accuracy: 0.9513 - val_loss: 0.3913 - val_accuracy: 0.8400\n",
      "Epoch 54/80\n",
      "4/4 [==============================] - 0s 2ms/step - loss: 0.2405 - accuracy: 0.9563 - val_loss: 0.3900 - val_accuracy: 0.8400\n",
      "Epoch 55/80\n",
      "4/4 [==============================] - 0s 3ms/step - loss: 0.2366 - accuracy: 0.9550 - val_loss: 0.3887 - val_accuracy: 0.8500\n",
      "Epoch 56/80\n",
      "4/4 [==============================] - 0s 3ms/step - loss: 0.2337 - accuracy: 0.9475 - val_loss: 0.3881 - val_accuracy: 0.8500\n",
      "Epoch 57/80\n",
      "4/4 [==============================] - 0s 3ms/step - loss: 0.2296 - accuracy: 0.9538 - val_loss: 0.3881 - val_accuracy: 0.8400\n",
      "Epoch 58/80\n",
      "4/4 [==============================] - 0s 3ms/step - loss: 0.2285 - accuracy: 0.9575 - val_loss: 0.3867 - val_accuracy: 0.8400\n",
      "Epoch 59/80\n",
      "4/4 [==============================] - 0s 3ms/step - loss: 0.2255 - accuracy: 0.9500 - val_loss: 0.3887 - val_accuracy: 0.8500\n",
      "Epoch 60/80\n",
      "4/4 [==============================] - 0s 3ms/step - loss: 0.2230 - accuracy: 0.9500 - val_loss: 0.3849 - val_accuracy: 0.8450\n",
      "Epoch 61/80\n",
      "4/4 [==============================] - 0s 3ms/step - loss: 0.2193 - accuracy: 0.9600 - val_loss: 0.3850 - val_accuracy: 0.8400\n",
      "Epoch 62/80\n",
      "4/4 [==============================] - 0s 3ms/step - loss: 0.2166 - accuracy: 0.9563 - val_loss: 0.3867 - val_accuracy: 0.8400\n",
      "Epoch 63/80\n",
      "4/4 [==============================] - 0s 3ms/step - loss: 0.2130 - accuracy: 0.9588 - val_loss: 0.3882 - val_accuracy: 0.8400\n"
     ]
    },
    {
     "name": "stdout",
     "output_type": "stream",
     "text": [
      "Epoch 64/80\n",
      "4/4 [==============================] - 0s 2ms/step - loss: 0.2100 - accuracy: 0.9600 - val_loss: 0.3880 - val_accuracy: 0.8400\n",
      "Epoch 65/80\n",
      "4/4 [==============================] - 0s 3ms/step - loss: 0.2089 - accuracy: 0.9575 - val_loss: 0.3873 - val_accuracy: 0.8400\n",
      "Epoch 66/80\n",
      "4/4 [==============================] - 0s 2ms/step - loss: 0.2043 - accuracy: 0.9625 - val_loss: 0.3882 - val_accuracy: 0.8350\n",
      "Epoch 67/80\n",
      "4/4 [==============================] - 0s 3ms/step - loss: 0.2049 - accuracy: 0.9638 - val_loss: 0.3889 - val_accuracy: 0.8350\n",
      "Epoch 68/80\n",
      "4/4 [==============================] - 0s 3ms/step - loss: 0.2002 - accuracy: 0.9613 - val_loss: 0.3905 - val_accuracy: 0.8400\n",
      "Epoch 69/80\n",
      "4/4 [==============================] - 0s 2ms/step - loss: 0.1965 - accuracy: 0.9638 - val_loss: 0.3906 - val_accuracy: 0.8300\n",
      "Epoch 70/80\n",
      "4/4 [==============================] - 0s 3ms/step - loss: 0.1952 - accuracy: 0.9638 - val_loss: 0.3900 - val_accuracy: 0.8350\n",
      "Epoch 71/80\n",
      "4/4 [==============================] - 0s 3ms/step - loss: 0.1915 - accuracy: 0.9625 - val_loss: 0.3914 - val_accuracy: 0.8400\n",
      "Epoch 72/80\n",
      "4/4 [==============================] - 0s 3ms/step - loss: 0.1918 - accuracy: 0.9625 - val_loss: 0.3913 - val_accuracy: 0.8350\n",
      "Epoch 73/80\n",
      "4/4 [==============================] - 0s 3ms/step - loss: 0.1874 - accuracy: 0.9625 - val_loss: 0.3930 - val_accuracy: 0.8400\n",
      "Epoch 74/80\n",
      "4/4 [==============================] - 0s 2ms/step - loss: 0.1856 - accuracy: 0.9650 - val_loss: 0.3941 - val_accuracy: 0.8350\n",
      "Epoch 75/80\n",
      "4/4 [==============================] - 0s 2ms/step - loss: 0.1831 - accuracy: 0.9650 - val_loss: 0.3964 - val_accuracy: 0.8350\n",
      "Epoch 76/80\n",
      "4/4 [==============================] - 0s 3ms/step - loss: 0.1815 - accuracy: 0.9650 - val_loss: 0.3960 - val_accuracy: 0.8350\n",
      "Epoch 77/80\n",
      "4/4 [==============================] - 0s 3ms/step - loss: 0.1786 - accuracy: 0.9650 - val_loss: 0.3978 - val_accuracy: 0.8350\n",
      "Epoch 78/80\n",
      "4/4 [==============================] - 0s 3ms/step - loss: 0.1768 - accuracy: 0.9650 - val_loss: 0.3972 - val_accuracy: 0.8350\n",
      "Epoch 79/80\n",
      "4/4 [==============================] - 0s 3ms/step - loss: 0.1745 - accuracy: 0.9663 - val_loss: 0.3986 - val_accuracy: 0.8350\n",
      "Epoch 80/80\n",
      "4/4 [==============================] - 0s 3ms/step - loss: 0.1726 - accuracy: 0.9650 - val_loss: 0.3990 - val_accuracy: 0.8400\n"
     ]
    }
   ],
   "source": [
    "history = model.fit(train_x_list,\n",
    "                    train_y_list,\n",
    "                    epochs=80,\n",
    "                    batch_size=256,\n",
    "                    validation_data=(test_x_list, test_y_list),\n",
    "                    verbose=1)"
   ]
  },
  {
   "cell_type": "code",
   "execution_count": 18,
   "id": "2c3a35b5",
   "metadata": {},
   "outputs": [
    {
     "name": "stdout",
     "output_type": "stream",
     "text": [
      "25/25 - 0s - loss: 0.1704 - accuracy: 0.9675\n",
      "[0.17035041749477386, 0.9674999713897705]\n"
     ]
    }
   ],
   "source": [
    "results = model.evaluate(train_x_list,  train_y_list, verbose=2)\n",
    "\n",
    "print(results)"
   ]
  },
  {
   "cell_type": "code",
   "execution_count": 19,
   "id": "a4df0368",
   "metadata": {},
   "outputs": [
    {
     "data": {
      "text/plain": [
       "dict_keys(['loss', 'accuracy', 'val_loss', 'val_accuracy'])"
      ]
     },
     "execution_count": 19,
     "metadata": {},
     "output_type": "execute_result"
    }
   ],
   "source": [
    "history_dict = history.history\n",
    "history_dict.keys()"
   ]
  },
  {
   "cell_type": "markdown",
   "id": "bafc9786",
   "metadata": {},
   "source": [
    "将训练过程与评估数据可视化。"
   ]
  },
  {
   "cell_type": "code",
   "execution_count": 20,
   "id": "16a587b6",
   "metadata": {},
   "outputs": [
    {
     "data": {
      "image/png": "[encoded data removed]",
      "text/plain": [
       "<Figure size 432x288 with 1 Axes>"
      ]
     },
     "metadata": {
      "needs_background": "light"
     },
     "output_type": "display_data"
    }
   ],
   "source": [
    "import matplotlib.pyplot as plt\n",
    "\n",
    "acc = history_dict['accuracy']\n",
    "val_acc = history_dict['val_accuracy']\n",
    "loss = history_dict['loss']\n",
    "val_loss = history_dict['val_loss']\n",
    "\n",
    "epochs = range(1, len(acc) + 1)\n",
    "\n",
    "# “bo”代表 \"蓝点\"\n",
    "plt.plot(epochs, loss, 'bo', label='Training loss')\n",
    "# b代表“蓝色实线”\n",
    "plt.plot(epochs, val_loss, 'b', label='Validation loss')\n",
    "plt.title('Training and validation loss')\n",
    "plt.xlabel('Epochs')\n",
    "plt.ylabel('Loss')\n",
    "plt.legend()\n",
    "\n",
    "plt.show()"
   ]
  },
  {
   "cell_type": "code",
   "execution_count": 21,
   "id": "e84905e7",
   "metadata": {},
   "outputs": [
    {
     "data": {
      "image/png": "[encoded data removed]",
      "text/plain": [
       "<Figure size 432x288 with 1 Axes>"
      ]
     },
     "metadata": {
      "needs_background": "light"
     },
     "output_type": "display_data"
    }
   ],
   "source": [
    "plt.clf()   # 清除数字\n",
    "\n",
    "plt.plot(epochs, acc, 'bo', label='Training acc')\n",
    "plt.plot(epochs, val_acc, 'b', label='Validation acc')\n",
    "plt.title('Training and validation accuracy')\n",
    "plt.xlabel('Epochs')\n",
    "plt.ylabel('Accuracy')\n",
    "plt.legend()\n",
    "\n",
    "plt.show()"
   ]
  },
  {
   "cell_type": "code",
   "execution_count": null,
   "id": "cf65efc7",
   "metadata": {},
   "outputs": [],
   "source": []
  }
 ],
 "metadata": {
  "kernelspec": {
   "display_name": "Python [conda env:pytf]",
   "language": "python",
   "name": "conda-env-pytf-py"
  },
  "language_info": {
   "codemirror_mode": {
    "name": "ipython",
    "version": 3
   },
   "file_extension": ".py",
   "mimetype": "text/x-python",
   "name": "python",
   "nbconvert_exporter": "python",
   "pygments_lexer": "ipython3",
   "version": "3.9.10"
  }
 },
 "nbformat": 4,
 "nbformat_minor": 5
}
